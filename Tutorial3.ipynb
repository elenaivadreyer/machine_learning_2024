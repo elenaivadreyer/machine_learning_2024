{
 "cells": [
  {
   "cell_type": "markdown",
   "id": "1e455bbf-d581-49cc-bfe8-bdf10730e084",
   "metadata": {},
   "source": [
    "### Ridge Regression:"
   ]
  },
  {
   "cell_type": "markdown",
   "id": "70f20cb8-9d5a-4ebc-8b93-114890d44943",
   "metadata": {},
   "source": [
    "Use scikit-learn to perform Ridge Regression"
   ]
  },
  {
   "cell_type": "markdown",
   "id": "71f7b2ce-9159-44da-9d32-fdcdf4a4d02a",
   "metadata": {},
   "source": [
    "Import Necessary Libraries"
   ]
  },
  {
   "cell_type": "code",
   "execution_count": 1,
   "id": "2f657465-c319-4f58-bd12-298f9751915d",
   "metadata": {
    "ExecuteTime": {
     "end_time": "2024-02-22T13:35:16.902202Z",
     "start_time": "2024-02-22T13:35:15.841439Z"
    }
   },
   "outputs": [
    {
     "name": "stderr",
     "output_type": "stream",
     "text": [
      "/var/folders/96/d0b81fgx57nf5q8xrlw36p1w0000gn/T/ipykernel_36309/412465331.py:3: DeprecationWarning: \n",
      "Pyarrow will become a required dependency of pandas in the next major release of pandas (pandas 3.0),\n",
      "(to allow more performant data types, such as the Arrow string type, and better interoperability with other libraries)\n",
      "but was not found to be installed on your system.\n",
      "If this would cause problems for you,\n",
      "please provide us feedback at https://github.com/pandas-dev/pandas/issues/54466\n",
      "        \n",
      "  import pandas as pd\n"
     ]
    }
   ],
   "source": [
    "import numpy as np\n",
    "import matplotlib.pyplot as plt\n",
    "import pandas as pd\n",
    "from sklearn.linear_model import Ridge\n",
    "from sklearn.metrics import mean_squared_error\n",
    "from sklearn.model_selection import train_test_split\n"
   ]
  },
  {
   "cell_type": "markdown",
   "id": "a3452ea1-e7c8-4015-adf6-2283a88405d0",
   "metadata": {},
   "source": [
    "Load Your Data\n",
    "1. read attributes.csv\n",
    "2. read the data\n",
    "3. drop non predictive variables\n",
    "4. check for ? and replace it with nan\n",
    "   "
   ]
  },
  {
   "cell_type": "code",
   "execution_count": 13,
   "id": "4b63c84b-0672-446b-a886-b861f7d713f9",
   "metadata": {
    "ExecuteTime": {
     "end_time": "2024-02-22T13:44:57.934051Z",
     "start_time": "2024-02-22T13:44:57.913806Z"
    }
   },
   "outputs": [
    {
     "name": "stderr",
     "output_type": "stream",
     "text": [
      "/var/folders/96/d0b81fgx57nf5q8xrlw36p1w0000gn/T/ipykernel_36309/2698450397.py:1: FutureWarning: The 'delim_whitespace' keyword in pd.read_csv is deprecated and will be removed in a future version. Use ``sep='\\s+'`` instead\n",
      "  attrib = pd.read_csv('Data/communitiesandcrime/attributes.csv', delim_whitespace = True)\n"
     ]
    }
   ],
   "source": [
    "attrib = pd.read_csv('Data/communitiesandcrime/attributes.csv', delim_whitespace = True)"
   ]
  },
  {
   "cell_type": "code",
   "execution_count": 14,
   "id": "baae369c-c6d5-435d-9f6a-9a3c1d8ef5ce",
   "metadata": {
    "ExecuteTime": {
     "end_time": "2024-02-22T13:44:57.985220Z",
     "start_time": "2024-02-22T13:44:57.935646Z"
    }
   },
   "outputs": [],
   "source": [
    "data = pd.read_csv('Data/communitiesandcrime/communities.data', header=None, names=attrib['attributes'])"
   ]
  },
  {
   "cell_type": "code",
   "outputs": [
    {
     "data": {
      "text/plain": "   state county community        communityname  fold  population  \\\n0      8      ?         ?         Lakewoodcity     1        0.19   \n1     53      ?         ?          Tukwilacity     1        0.00   \n2     24      ?         ?         Aberdeentown     1        0.00   \n3     34      5     81440  Willingborotownship     1        0.04   \n4     42     95      6096    Bethlehemtownship     1        0.01   \n\n   householdsize  racepctblack  racePctWhite  racePctAsian  ...  LandArea  \\\n0           0.33          0.02          0.90          0.12  ...      0.12   \n1           0.16          0.12          0.74          0.45  ...      0.02   \n2           0.42          0.49          0.56          0.17  ...      0.01   \n3           0.77          1.00          0.08          0.12  ...      0.02   \n4           0.55          0.02          0.95          0.09  ...      0.04   \n\n   PopDens  PctUsePubTrans  PolicCars  PolicOperBudg  LemasPctPolicOnPatr  \\\n0     0.26            0.20       0.06           0.04                  0.9   \n1     0.12            0.45          ?              ?                    ?   \n2     0.21            0.02          ?              ?                    ?   \n3     0.39            0.28          ?              ?                    ?   \n4     0.09            0.02          ?              ?                    ?   \n\n   LemasGangUnitDeploy  LemasPctOfficDrugUn  PolicBudgPerPop  \\\n0                  0.5                 0.32             0.14   \n1                    ?                 0.00                ?   \n2                    ?                 0.00                ?   \n3                    ?                 0.00                ?   \n4                    ?                 0.00                ?   \n\n   ViolentCrimesPerPop  \n0                 0.20  \n1                 0.67  \n2                 0.43  \n3                 0.12  \n4                 0.03  \n\n[5 rows x 128 columns]",
      "text/html": "<div>\n<style scoped>\n    .dataframe tbody tr th:only-of-type {\n        vertical-align: middle;\n    }\n\n    .dataframe tbody tr th {\n        vertical-align: top;\n    }\n\n    .dataframe thead th {\n        text-align: right;\n    }\n</style>\n<table border=\"1\" class=\"dataframe\">\n  <thead>\n    <tr style=\"text-align: right;\">\n      <th></th>\n      <th>state</th>\n      <th>county</th>\n      <th>community</th>\n      <th>communityname</th>\n      <th>fold</th>\n      <th>population</th>\n      <th>householdsize</th>\n      <th>racepctblack</th>\n      <th>racePctWhite</th>\n      <th>racePctAsian</th>\n      <th>...</th>\n      <th>LandArea</th>\n      <th>PopDens</th>\n      <th>PctUsePubTrans</th>\n      <th>PolicCars</th>\n      <th>PolicOperBudg</th>\n      <th>LemasPctPolicOnPatr</th>\n      <th>LemasGangUnitDeploy</th>\n      <th>LemasPctOfficDrugUn</th>\n      <th>PolicBudgPerPop</th>\n      <th>ViolentCrimesPerPop</th>\n    </tr>\n  </thead>\n  <tbody>\n    <tr>\n      <th>0</th>\n      <td>8</td>\n      <td>?</td>\n      <td>?</td>\n      <td>Lakewoodcity</td>\n      <td>1</td>\n      <td>0.19</td>\n      <td>0.33</td>\n      <td>0.02</td>\n      <td>0.90</td>\n      <td>0.12</td>\n      <td>...</td>\n      <td>0.12</td>\n      <td>0.26</td>\n      <td>0.20</td>\n      <td>0.06</td>\n      <td>0.04</td>\n      <td>0.9</td>\n      <td>0.5</td>\n      <td>0.32</td>\n      <td>0.14</td>\n      <td>0.20</td>\n    </tr>\n    <tr>\n      <th>1</th>\n      <td>53</td>\n      <td>?</td>\n      <td>?</td>\n      <td>Tukwilacity</td>\n      <td>1</td>\n      <td>0.00</td>\n      <td>0.16</td>\n      <td>0.12</td>\n      <td>0.74</td>\n      <td>0.45</td>\n      <td>...</td>\n      <td>0.02</td>\n      <td>0.12</td>\n      <td>0.45</td>\n      <td>?</td>\n      <td>?</td>\n      <td>?</td>\n      <td>?</td>\n      <td>0.00</td>\n      <td>?</td>\n      <td>0.67</td>\n    </tr>\n    <tr>\n      <th>2</th>\n      <td>24</td>\n      <td>?</td>\n      <td>?</td>\n      <td>Aberdeentown</td>\n      <td>1</td>\n      <td>0.00</td>\n      <td>0.42</td>\n      <td>0.49</td>\n      <td>0.56</td>\n      <td>0.17</td>\n      <td>...</td>\n      <td>0.01</td>\n      <td>0.21</td>\n      <td>0.02</td>\n      <td>?</td>\n      <td>?</td>\n      <td>?</td>\n      <td>?</td>\n      <td>0.00</td>\n      <td>?</td>\n      <td>0.43</td>\n    </tr>\n    <tr>\n      <th>3</th>\n      <td>34</td>\n      <td>5</td>\n      <td>81440</td>\n      <td>Willingborotownship</td>\n      <td>1</td>\n      <td>0.04</td>\n      <td>0.77</td>\n      <td>1.00</td>\n      <td>0.08</td>\n      <td>0.12</td>\n      <td>...</td>\n      <td>0.02</td>\n      <td>0.39</td>\n      <td>0.28</td>\n      <td>?</td>\n      <td>?</td>\n      <td>?</td>\n      <td>?</td>\n      <td>0.00</td>\n      <td>?</td>\n      <td>0.12</td>\n    </tr>\n    <tr>\n      <th>4</th>\n      <td>42</td>\n      <td>95</td>\n      <td>6096</td>\n      <td>Bethlehemtownship</td>\n      <td>1</td>\n      <td>0.01</td>\n      <td>0.55</td>\n      <td>0.02</td>\n      <td>0.95</td>\n      <td>0.09</td>\n      <td>...</td>\n      <td>0.04</td>\n      <td>0.09</td>\n      <td>0.02</td>\n      <td>?</td>\n      <td>?</td>\n      <td>?</td>\n      <td>?</td>\n      <td>0.00</td>\n      <td>?</td>\n      <td>0.03</td>\n    </tr>\n  </tbody>\n</table>\n<p>5 rows × 128 columns</p>\n</div>"
     },
     "execution_count": 15,
     "metadata": {},
     "output_type": "execute_result"
    }
   ],
   "source": [
    "data.head()"
   ],
   "metadata": {
    "collapsed": false,
    "ExecuteTime": {
     "end_time": "2024-02-22T13:44:57.986665Z",
     "start_time": "2024-02-22T13:44:57.971523Z"
    }
   },
   "id": "b2ca022fe57f4bdb",
   "execution_count": 15
  },
  {
   "cell_type": "code",
   "execution_count": 16,
   "id": "ba4ae913-0846-4f54-b305-caafac7e4ca3",
   "metadata": {
    "ExecuteTime": {
     "end_time": "2024-02-22T13:44:58.032975Z",
     "start_time": "2024-02-22T13:44:57.987595Z"
    }
   },
   "outputs": [
    {
     "data": {
      "text/plain": "   population  householdsize  racepctblack  racePctWhite  racePctAsian  \\\n0        0.19           0.33          0.02          0.90          0.12   \n1        0.00           0.16          0.12          0.74          0.45   \n2        0.00           0.42          0.49          0.56          0.17   \n3        0.04           0.77          1.00          0.08          0.12   \n4        0.01           0.55          0.02          0.95          0.09   \n\n   racePctHisp  agePct12t21  agePct12t29  agePct16t24  agePct65up  ...  \\\n0         0.17         0.34         0.47         0.29        0.32  ...   \n1         0.07         0.26         0.59         0.35        0.27  ...   \n2         0.04         0.39         0.47         0.28        0.32  ...   \n3         0.10         0.51         0.50         0.34        0.21  ...   \n4         0.05         0.38         0.38         0.23        0.36  ...   \n\n   LandArea  PopDens  PctUsePubTrans  PolicCars  PolicOperBudg  \\\n0      0.12     0.26            0.20       0.06           0.04   \n1      0.02     0.12            0.45          ?              ?   \n2      0.01     0.21            0.02          ?              ?   \n3      0.02     0.39            0.28          ?              ?   \n4      0.04     0.09            0.02          ?              ?   \n\n   LemasPctPolicOnPatr  LemasGangUnitDeploy  LemasPctOfficDrugUn  \\\n0                  0.9                  0.5                 0.32   \n1                    ?                    ?                 0.00   \n2                    ?                    ?                 0.00   \n3                    ?                    ?                 0.00   \n4                    ?                    ?                 0.00   \n\n   PolicBudgPerPop  ViolentCrimesPerPop  \n0             0.14                 0.20  \n1                ?                 0.67  \n2                ?                 0.43  \n3                ?                 0.12  \n4                ?                 0.03  \n\n[5 rows x 123 columns]",
      "text/html": "<div>\n<style scoped>\n    .dataframe tbody tr th:only-of-type {\n        vertical-align: middle;\n    }\n\n    .dataframe tbody tr th {\n        vertical-align: top;\n    }\n\n    .dataframe thead th {\n        text-align: right;\n    }\n</style>\n<table border=\"1\" class=\"dataframe\">\n  <thead>\n    <tr style=\"text-align: right;\">\n      <th></th>\n      <th>population</th>\n      <th>householdsize</th>\n      <th>racepctblack</th>\n      <th>racePctWhite</th>\n      <th>racePctAsian</th>\n      <th>racePctHisp</th>\n      <th>agePct12t21</th>\n      <th>agePct12t29</th>\n      <th>agePct16t24</th>\n      <th>agePct65up</th>\n      <th>...</th>\n      <th>LandArea</th>\n      <th>PopDens</th>\n      <th>PctUsePubTrans</th>\n      <th>PolicCars</th>\n      <th>PolicOperBudg</th>\n      <th>LemasPctPolicOnPatr</th>\n      <th>LemasGangUnitDeploy</th>\n      <th>LemasPctOfficDrugUn</th>\n      <th>PolicBudgPerPop</th>\n      <th>ViolentCrimesPerPop</th>\n    </tr>\n  </thead>\n  <tbody>\n    <tr>\n      <th>0</th>\n      <td>0.19</td>\n      <td>0.33</td>\n      <td>0.02</td>\n      <td>0.90</td>\n      <td>0.12</td>\n      <td>0.17</td>\n      <td>0.34</td>\n      <td>0.47</td>\n      <td>0.29</td>\n      <td>0.32</td>\n      <td>...</td>\n      <td>0.12</td>\n      <td>0.26</td>\n      <td>0.20</td>\n      <td>0.06</td>\n      <td>0.04</td>\n      <td>0.9</td>\n      <td>0.5</td>\n      <td>0.32</td>\n      <td>0.14</td>\n      <td>0.20</td>\n    </tr>\n    <tr>\n      <th>1</th>\n      <td>0.00</td>\n      <td>0.16</td>\n      <td>0.12</td>\n      <td>0.74</td>\n      <td>0.45</td>\n      <td>0.07</td>\n      <td>0.26</td>\n      <td>0.59</td>\n      <td>0.35</td>\n      <td>0.27</td>\n      <td>...</td>\n      <td>0.02</td>\n      <td>0.12</td>\n      <td>0.45</td>\n      <td>?</td>\n      <td>?</td>\n      <td>?</td>\n      <td>?</td>\n      <td>0.00</td>\n      <td>?</td>\n      <td>0.67</td>\n    </tr>\n    <tr>\n      <th>2</th>\n      <td>0.00</td>\n      <td>0.42</td>\n      <td>0.49</td>\n      <td>0.56</td>\n      <td>0.17</td>\n      <td>0.04</td>\n      <td>0.39</td>\n      <td>0.47</td>\n      <td>0.28</td>\n      <td>0.32</td>\n      <td>...</td>\n      <td>0.01</td>\n      <td>0.21</td>\n      <td>0.02</td>\n      <td>?</td>\n      <td>?</td>\n      <td>?</td>\n      <td>?</td>\n      <td>0.00</td>\n      <td>?</td>\n      <td>0.43</td>\n    </tr>\n    <tr>\n      <th>3</th>\n      <td>0.04</td>\n      <td>0.77</td>\n      <td>1.00</td>\n      <td>0.08</td>\n      <td>0.12</td>\n      <td>0.10</td>\n      <td>0.51</td>\n      <td>0.50</td>\n      <td>0.34</td>\n      <td>0.21</td>\n      <td>...</td>\n      <td>0.02</td>\n      <td>0.39</td>\n      <td>0.28</td>\n      <td>?</td>\n      <td>?</td>\n      <td>?</td>\n      <td>?</td>\n      <td>0.00</td>\n      <td>?</td>\n      <td>0.12</td>\n    </tr>\n    <tr>\n      <th>4</th>\n      <td>0.01</td>\n      <td>0.55</td>\n      <td>0.02</td>\n      <td>0.95</td>\n      <td>0.09</td>\n      <td>0.05</td>\n      <td>0.38</td>\n      <td>0.38</td>\n      <td>0.23</td>\n      <td>0.36</td>\n      <td>...</td>\n      <td>0.04</td>\n      <td>0.09</td>\n      <td>0.02</td>\n      <td>?</td>\n      <td>?</td>\n      <td>?</td>\n      <td>?</td>\n      <td>0.00</td>\n      <td>?</td>\n      <td>0.03</td>\n    </tr>\n  </tbody>\n</table>\n<p>5 rows × 123 columns</p>\n</div>"
     },
     "execution_count": 16,
     "metadata": {},
     "output_type": "execute_result"
    }
   ],
   "source": [
    "data = data.drop(columns=['state','county',\n",
    "                          'community','communityname',\n",
    "                          'fold'], axis=1)\n",
    "data.head()"
   ]
  },
  {
   "cell_type": "code",
   "execution_count": 17,
   "id": "37af7a4c-1d98-4cde-87d0-9750c5520c73",
   "metadata": {
    "ExecuteTime": {
     "end_time": "2024-02-22T13:44:58.037303Z",
     "start_time": "2024-02-22T13:44:58.002693Z"
    }
   },
   "outputs": [
    {
     "data": {
      "text/plain": "   population  householdsize  racepctblack  racePctWhite  racePctAsian  \\\n0        0.19           0.33          0.02          0.90          0.12   \n1        0.00           0.16          0.12          0.74          0.45   \n2        0.00           0.42          0.49          0.56          0.17   \n3        0.04           0.77          1.00          0.08          0.12   \n4        0.01           0.55          0.02          0.95          0.09   \n\n   racePctHisp  agePct12t21  agePct12t29  agePct16t24  agePct65up  ...  \\\n0         0.17         0.34         0.47         0.29        0.32  ...   \n1         0.07         0.26         0.59         0.35        0.27  ...   \n2         0.04         0.39         0.47         0.28        0.32  ...   \n3         0.10         0.51         0.50         0.34        0.21  ...   \n4         0.05         0.38         0.38         0.23        0.36  ...   \n\n   LandArea  PopDens  PctUsePubTrans  PolicCars  PolicOperBudg  \\\n0      0.12     0.26            0.20       0.06           0.04   \n1      0.02     0.12            0.45        NaN            NaN   \n2      0.01     0.21            0.02        NaN            NaN   \n3      0.02     0.39            0.28        NaN            NaN   \n4      0.04     0.09            0.02        NaN            NaN   \n\n   LemasPctPolicOnPatr  LemasGangUnitDeploy  LemasPctOfficDrugUn  \\\n0                  0.9                  0.5                 0.32   \n1                  NaN                  NaN                 0.00   \n2                  NaN                  NaN                 0.00   \n3                  NaN                  NaN                 0.00   \n4                  NaN                  NaN                 0.00   \n\n   PolicBudgPerPop  ViolentCrimesPerPop  \n0             0.14                 0.20  \n1              NaN                 0.67  \n2              NaN                 0.43  \n3              NaN                 0.12  \n4              NaN                 0.03  \n\n[5 rows x 123 columns]",
      "text/html": "<div>\n<style scoped>\n    .dataframe tbody tr th:only-of-type {\n        vertical-align: middle;\n    }\n\n    .dataframe tbody tr th {\n        vertical-align: top;\n    }\n\n    .dataframe thead th {\n        text-align: right;\n    }\n</style>\n<table border=\"1\" class=\"dataframe\">\n  <thead>\n    <tr style=\"text-align: right;\">\n      <th></th>\n      <th>population</th>\n      <th>householdsize</th>\n      <th>racepctblack</th>\n      <th>racePctWhite</th>\n      <th>racePctAsian</th>\n      <th>racePctHisp</th>\n      <th>agePct12t21</th>\n      <th>agePct12t29</th>\n      <th>agePct16t24</th>\n      <th>agePct65up</th>\n      <th>...</th>\n      <th>LandArea</th>\n      <th>PopDens</th>\n      <th>PctUsePubTrans</th>\n      <th>PolicCars</th>\n      <th>PolicOperBudg</th>\n      <th>LemasPctPolicOnPatr</th>\n      <th>LemasGangUnitDeploy</th>\n      <th>LemasPctOfficDrugUn</th>\n      <th>PolicBudgPerPop</th>\n      <th>ViolentCrimesPerPop</th>\n    </tr>\n  </thead>\n  <tbody>\n    <tr>\n      <th>0</th>\n      <td>0.19</td>\n      <td>0.33</td>\n      <td>0.02</td>\n      <td>0.90</td>\n      <td>0.12</td>\n      <td>0.17</td>\n      <td>0.34</td>\n      <td>0.47</td>\n      <td>0.29</td>\n      <td>0.32</td>\n      <td>...</td>\n      <td>0.12</td>\n      <td>0.26</td>\n      <td>0.20</td>\n      <td>0.06</td>\n      <td>0.04</td>\n      <td>0.9</td>\n      <td>0.5</td>\n      <td>0.32</td>\n      <td>0.14</td>\n      <td>0.20</td>\n    </tr>\n    <tr>\n      <th>1</th>\n      <td>0.00</td>\n      <td>0.16</td>\n      <td>0.12</td>\n      <td>0.74</td>\n      <td>0.45</td>\n      <td>0.07</td>\n      <td>0.26</td>\n      <td>0.59</td>\n      <td>0.35</td>\n      <td>0.27</td>\n      <td>...</td>\n      <td>0.02</td>\n      <td>0.12</td>\n      <td>0.45</td>\n      <td>NaN</td>\n      <td>NaN</td>\n      <td>NaN</td>\n      <td>NaN</td>\n      <td>0.00</td>\n      <td>NaN</td>\n      <td>0.67</td>\n    </tr>\n    <tr>\n      <th>2</th>\n      <td>0.00</td>\n      <td>0.42</td>\n      <td>0.49</td>\n      <td>0.56</td>\n      <td>0.17</td>\n      <td>0.04</td>\n      <td>0.39</td>\n      <td>0.47</td>\n      <td>0.28</td>\n      <td>0.32</td>\n      <td>...</td>\n      <td>0.01</td>\n      <td>0.21</td>\n      <td>0.02</td>\n      <td>NaN</td>\n      <td>NaN</td>\n      <td>NaN</td>\n      <td>NaN</td>\n      <td>0.00</td>\n      <td>NaN</td>\n      <td>0.43</td>\n    </tr>\n    <tr>\n      <th>3</th>\n      <td>0.04</td>\n      <td>0.77</td>\n      <td>1.00</td>\n      <td>0.08</td>\n      <td>0.12</td>\n      <td>0.10</td>\n      <td>0.51</td>\n      <td>0.50</td>\n      <td>0.34</td>\n      <td>0.21</td>\n      <td>...</td>\n      <td>0.02</td>\n      <td>0.39</td>\n      <td>0.28</td>\n      <td>NaN</td>\n      <td>NaN</td>\n      <td>NaN</td>\n      <td>NaN</td>\n      <td>0.00</td>\n      <td>NaN</td>\n      <td>0.12</td>\n    </tr>\n    <tr>\n      <th>4</th>\n      <td>0.01</td>\n      <td>0.55</td>\n      <td>0.02</td>\n      <td>0.95</td>\n      <td>0.09</td>\n      <td>0.05</td>\n      <td>0.38</td>\n      <td>0.38</td>\n      <td>0.23</td>\n      <td>0.36</td>\n      <td>...</td>\n      <td>0.04</td>\n      <td>0.09</td>\n      <td>0.02</td>\n      <td>NaN</td>\n      <td>NaN</td>\n      <td>NaN</td>\n      <td>NaN</td>\n      <td>0.00</td>\n      <td>NaN</td>\n      <td>0.03</td>\n    </tr>\n  </tbody>\n</table>\n<p>5 rows × 123 columns</p>\n</div>"
     },
     "execution_count": 17,
     "metadata": {},
     "output_type": "execute_result"
    }
   ],
   "source": [
    "data = data.replace('?', np.nan)\n",
    "data.head()"
   ]
  },
  {
   "cell_type": "code",
   "execution_count": 18,
   "id": "ab9eeedf-e8b5-4d68-9f9d-cf817ce44c3e",
   "metadata": {
    "ExecuteTime": {
     "end_time": "2024-02-22T13:45:04.570805Z",
     "start_time": "2024-02-22T13:45:04.542885Z"
    }
   },
   "outputs": [
    {
     "name": "stdout",
     "output_type": "stream",
     "text": [
      "Index(['OtherPerCap', 'LemasSwornFT', 'LemasSwFTPerPop', 'LemasSwFTFieldOps',\n",
      "       'LemasSwFTFieldPerPop', 'LemasTotalReq', 'LemasTotReqPerPop',\n",
      "       'PolicReqPerOffic', 'PolicPerPop', 'RacialMatchCommPol',\n",
      "       'PctPolicWhite', 'PctPolicBlack', 'PctPolicHisp', 'PctPolicAsian',\n",
      "       'PctPolicMinor', 'OfficAssgnDrugUnits', 'NumKindsDrugsSeiz',\n",
      "       'PolicAveOTWorked', 'PolicCars', 'PolicOperBudg', 'LemasPctPolicOnPatr',\n",
      "       'LemasGangUnitDeploy', 'PolicBudgPerPop'],\n",
      "      dtype='object')\n"
     ]
    },
    {
     "data": {
      "text/plain": "(23,)"
     },
     "execution_count": 18,
     "metadata": {},
     "output_type": "execute_result"
    }
   ],
   "source": [
    "feat_miss = data.columns[data.isnull().any()]\n",
    "\n",
    "print(feat_miss)\n",
    "feat_miss.shape"
   ]
  },
  {
   "cell_type": "markdown",
   "id": "1539809a-f034-44d4-81d3-22ca7c11ce2a",
   "metadata": {},
   "source": [
    "fill missing values:"
   ]
  },
  {
   "cell_type": "code",
   "execution_count": 19,
   "id": "d702b8df-aee4-4b0d-bdca-9e7b949a33cd",
   "metadata": {
    "ExecuteTime": {
     "end_time": "2024-02-22T13:45:09.971890Z",
     "start_time": "2024-02-22T13:45:09.965623Z"
    }
   },
   "outputs": [],
   "source": [
    "from sklearn.impute import SimpleImputer"
   ]
  },
  {
   "cell_type": "code",
   "execution_count": 20,
   "id": "62f7dc3d-daeb-42c9-ba49-fd76ce353a2c",
   "metadata": {
    "ExecuteTime": {
     "end_time": "2024-02-22T13:45:11.694896Z",
     "start_time": "2024-02-22T13:45:11.690111Z"
    }
   },
   "outputs": [],
   "source": [
    "# Create an instance of SimpleImputer with mean strategy\n",
    "imputer = SimpleImputer(missing_values=np.nan, strategy='mean')\n",
    "\n",
    "# Fit the imputer on the data and transform the column in one step\n",
    "data['OtherPerCap'] = imputer.fit_transform(data[['OtherPerCap']])"
   ]
  },
  {
   "cell_type": "markdown",
   "id": "bc45103d-d672-4fcb-9f70-c5f3b7390dae",
   "metadata": {},
   "source": [
    "The other variables have a lot of missing values. Drop them for now:\n",
    "\n",
    "Now see the shape of the data \n",
    "\n",
    "Also see first 5 columns of your data using the head function."
   ]
  },
  {
   "cell_type": "code",
   "execution_count": 21,
   "id": "b5199d00-1e0d-46bc-800f-67f2b075c9a9",
   "metadata": {
    "ExecuteTime": {
     "end_time": "2024-02-22T13:45:34.703045Z",
     "start_time": "2024-02-22T13:45:34.672380Z"
    }
   },
   "outputs": [
    {
     "name": "stdout",
     "output_type": "stream",
     "text": [
      "(1994, 101)\n"
     ]
    },
    {
     "data": {
      "text/plain": "   population  householdsize  racepctblack  racePctWhite  racePctAsian  \\\n0        0.19           0.33          0.02          0.90          0.12   \n1        0.00           0.16          0.12          0.74          0.45   \n2        0.00           0.42          0.49          0.56          0.17   \n3        0.04           0.77          1.00          0.08          0.12   \n4        0.01           0.55          0.02          0.95          0.09   \n\n   racePctHisp  agePct12t21  agePct12t29  agePct16t24  agePct65up  ...  \\\n0         0.17         0.34         0.47         0.29        0.32  ...   \n1         0.07         0.26         0.59         0.35        0.27  ...   \n2         0.04         0.39         0.47         0.28        0.32  ...   \n3         0.10         0.51         0.50         0.34        0.21  ...   \n4         0.05         0.38         0.38         0.23        0.36  ...   \n\n   PctForeignBorn  PctBornSameState  PctSameHouse85  PctSameCity85  \\\n0            0.12              0.42            0.50           0.51   \n1            0.21              0.50            0.34           0.60   \n2            0.14              0.49            0.54           0.67   \n3            0.19              0.30            0.73           0.64   \n4            0.11              0.72            0.64           0.61   \n\n   PctSameState85  LandArea  PopDens  PctUsePubTrans  LemasPctOfficDrugUn  \\\n0            0.64      0.12     0.26            0.20                 0.32   \n1            0.52      0.02     0.12            0.45                 0.00   \n2            0.56      0.01     0.21            0.02                 0.00   \n3            0.65      0.02     0.39            0.28                 0.00   \n4            0.53      0.04     0.09            0.02                 0.00   \n\n   ViolentCrimesPerPop  \n0                 0.20  \n1                 0.67  \n2                 0.43  \n3                 0.12  \n4                 0.03  \n\n[5 rows x 101 columns]",
      "text/html": "<div>\n<style scoped>\n    .dataframe tbody tr th:only-of-type {\n        vertical-align: middle;\n    }\n\n    .dataframe tbody tr th {\n        vertical-align: top;\n    }\n\n    .dataframe thead th {\n        text-align: right;\n    }\n</style>\n<table border=\"1\" class=\"dataframe\">\n  <thead>\n    <tr style=\"text-align: right;\">\n      <th></th>\n      <th>population</th>\n      <th>householdsize</th>\n      <th>racepctblack</th>\n      <th>racePctWhite</th>\n      <th>racePctAsian</th>\n      <th>racePctHisp</th>\n      <th>agePct12t21</th>\n      <th>agePct12t29</th>\n      <th>agePct16t24</th>\n      <th>agePct65up</th>\n      <th>...</th>\n      <th>PctForeignBorn</th>\n      <th>PctBornSameState</th>\n      <th>PctSameHouse85</th>\n      <th>PctSameCity85</th>\n      <th>PctSameState85</th>\n      <th>LandArea</th>\n      <th>PopDens</th>\n      <th>PctUsePubTrans</th>\n      <th>LemasPctOfficDrugUn</th>\n      <th>ViolentCrimesPerPop</th>\n    </tr>\n  </thead>\n  <tbody>\n    <tr>\n      <th>0</th>\n      <td>0.19</td>\n      <td>0.33</td>\n      <td>0.02</td>\n      <td>0.90</td>\n      <td>0.12</td>\n      <td>0.17</td>\n      <td>0.34</td>\n      <td>0.47</td>\n      <td>0.29</td>\n      <td>0.32</td>\n      <td>...</td>\n      <td>0.12</td>\n      <td>0.42</td>\n      <td>0.50</td>\n      <td>0.51</td>\n      <td>0.64</td>\n      <td>0.12</td>\n      <td>0.26</td>\n      <td>0.20</td>\n      <td>0.32</td>\n      <td>0.20</td>\n    </tr>\n    <tr>\n      <th>1</th>\n      <td>0.00</td>\n      <td>0.16</td>\n      <td>0.12</td>\n      <td>0.74</td>\n      <td>0.45</td>\n      <td>0.07</td>\n      <td>0.26</td>\n      <td>0.59</td>\n      <td>0.35</td>\n      <td>0.27</td>\n      <td>...</td>\n      <td>0.21</td>\n      <td>0.50</td>\n      <td>0.34</td>\n      <td>0.60</td>\n      <td>0.52</td>\n      <td>0.02</td>\n      <td>0.12</td>\n      <td>0.45</td>\n      <td>0.00</td>\n      <td>0.67</td>\n    </tr>\n    <tr>\n      <th>2</th>\n      <td>0.00</td>\n      <td>0.42</td>\n      <td>0.49</td>\n      <td>0.56</td>\n      <td>0.17</td>\n      <td>0.04</td>\n      <td>0.39</td>\n      <td>0.47</td>\n      <td>0.28</td>\n      <td>0.32</td>\n      <td>...</td>\n      <td>0.14</td>\n      <td>0.49</td>\n      <td>0.54</td>\n      <td>0.67</td>\n      <td>0.56</td>\n      <td>0.01</td>\n      <td>0.21</td>\n      <td>0.02</td>\n      <td>0.00</td>\n      <td>0.43</td>\n    </tr>\n    <tr>\n      <th>3</th>\n      <td>0.04</td>\n      <td>0.77</td>\n      <td>1.00</td>\n      <td>0.08</td>\n      <td>0.12</td>\n      <td>0.10</td>\n      <td>0.51</td>\n      <td>0.50</td>\n      <td>0.34</td>\n      <td>0.21</td>\n      <td>...</td>\n      <td>0.19</td>\n      <td>0.30</td>\n      <td>0.73</td>\n      <td>0.64</td>\n      <td>0.65</td>\n      <td>0.02</td>\n      <td>0.39</td>\n      <td>0.28</td>\n      <td>0.00</td>\n      <td>0.12</td>\n    </tr>\n    <tr>\n      <th>4</th>\n      <td>0.01</td>\n      <td>0.55</td>\n      <td>0.02</td>\n      <td>0.95</td>\n      <td>0.09</td>\n      <td>0.05</td>\n      <td>0.38</td>\n      <td>0.38</td>\n      <td>0.23</td>\n      <td>0.36</td>\n      <td>...</td>\n      <td>0.11</td>\n      <td>0.72</td>\n      <td>0.64</td>\n      <td>0.61</td>\n      <td>0.53</td>\n      <td>0.04</td>\n      <td>0.09</td>\n      <td>0.02</td>\n      <td>0.00</td>\n      <td>0.03</td>\n    </tr>\n  </tbody>\n</table>\n<p>5 rows × 101 columns</p>\n</div>"
     },
     "execution_count": 21,
     "metadata": {},
     "output_type": "execute_result"
    }
   ],
   "source": [
    "data = data.dropna(axis=1)\n",
    "print(data.shape)\n",
    "data.head()"
   ]
  },
  {
   "cell_type": "markdown",
   "id": "766a4918-d665-4a14-900c-96657f764c4e",
   "metadata": {},
   "source": [
    "Read your feature matrix into a variable X using data.iloc and output variable in y:"
   ]
  },
  {
   "cell_type": "code",
   "execution_count": 22,
   "id": "21562f8d-93b9-4fa8-83cf-0605684dc579",
   "metadata": {
    "ExecuteTime": {
     "end_time": "2024-02-22T13:45:58.403401Z",
     "start_time": "2024-02-22T13:45:58.395200Z"
    }
   },
   "outputs": [],
   "source": [
    "X = data.iloc[:, 0:100].values #(data)\n",
    "y = data.iloc[:, 100].values  #(the attribute/feature to be predicted)"
   ]
  },
  {
   "cell_type": "markdown",
   "id": "21abfeff-15d3-4901-beae-3ea7deb0d64c",
   "metadata": {},
   "source": [
    "Divide your data into train and test using 70 % data for training and 30 % for testing:"
   ]
  },
  {
   "cell_type": "code",
   "execution_count": 23,
   "id": "058616a4-806d-468d-a0e1-2e038eab0227",
   "metadata": {
    "ExecuteTime": {
     "end_time": "2024-02-22T13:47:33.315953Z",
     "start_time": "2024-02-22T13:47:33.289132Z"
    }
   },
   "outputs": [
    {
     "name": "stdout",
     "output_type": "stream",
     "text": [
      "(1994, 100)\n",
      "(1994,)\n"
     ]
    }
   ],
   "source": [
    "from sklearn.model_selection import train_test_split\n",
    "\n",
    "seed = 0\n",
    "\n",
    "X_train, X_test, y_train, y_test = train_test_split(X, y, test_size = 0.3, random_state = seed)\n",
    "\n",
    "print(X.shape)\n",
    "print(y.shape)"
   ]
  },
  {
   "cell_type": "markdown",
   "id": "aabe02f8-3cfb-4e64-bae2-3b18cf295614",
   "metadata": {},
   "source": [
    "Standardize features by removing the mean and scaling to unit variance"
   ]
  },
  {
   "cell_type": "code",
   "execution_count": 24,
   "id": "a616d77e-9239-43ae-9c13-d77d9d73044a",
   "metadata": {
    "ExecuteTime": {
     "end_time": "2024-02-22T13:48:21.637145Z",
     "start_time": "2024-02-22T13:48:21.623941Z"
    }
   },
   "outputs": [
    {
     "name": "stdout",
     "output_type": "stream",
     "text": [
      "[[-0.22795496 -1.35990003  0.90037182 ... -0.51808417 -0.53917548\n",
      "  -0.40184998]\n",
      " [-0.14887086  1.44938384 -0.39818442 ... -0.02411423  0.13186758\n",
      "  -0.40184998]\n",
      " [-0.38612316  0.10581329 -0.67363574 ... -0.2710992  -0.6733841\n",
      "  -0.40184998]\n",
      " ...\n",
      " [-0.46520727  0.16688468 -0.71298593 ...  1.21081061  0.08713137\n",
      "  -0.40184998]\n",
      " [-0.30703906 -0.9934717  -0.59493537 ...  1.06261963  0.44502101\n",
      "  -0.40184998]\n",
      " [-0.06978676 -0.32168643 -0.16208329 ... -0.36989319  1.25027268\n",
      "  -0.40184998]]\n",
      "[[-0.22795496 -0.93240031 -0.63428556 ... -0.71567214 -0.44970308\n",
      "  -0.40184998]\n",
      " [-0.22795496  0.89974135 -0.20143348 ... -0.41929018 -0.22602206\n",
      "  -0.40184998]\n",
      " [-0.38612316 -1.11561448  0.42816955 ...  0.22287074  0.04239517\n",
      "  -0.40184998]\n",
      " ...\n",
      " [-0.38612316 -0.4438292  -0.71298593 ... -0.86386312 -0.62864789\n",
      "  -0.40184998]\n",
      " [-0.38612316 -0.26061504 -0.59493537 ... -0.86386312 -0.53917548\n",
      "  -0.40184998]\n",
      " [ 2.93540909  0.96081274  3.22203297 ...  3.6312633   3.75550012\n",
      "  -0.40184998]]\n"
     ]
    }
   ],
   "source": [
    "from sklearn.preprocessing import StandardScaler\n",
    "sc = StandardScaler()\n",
    "X_train = sc.fit_transform(X_train)\n",
    "X_test = sc.transform(X_test)\n",
    "print(X_train)\n",
    "print(X_test)"
   ]
  },
  {
   "cell_type": "markdown",
   "id": "59a05ab7-a2d1-43da-87a1-c64f2752e540",
   "metadata": {},
   "source": [
    " Split your training data further into training(80 %) and validation sets(20%)"
   ]
  },
  {
   "cell_type": "code",
   "execution_count": 25,
   "id": "3568e347-7c3f-44a2-8a2a-9cd0e38b7872",
   "metadata": {
    "ExecuteTime": {
     "end_time": "2024-02-22T13:54:57.840850Z",
     "start_time": "2024-02-22T13:54:57.832915Z"
    }
   },
   "outputs": [],
   "source": [
    "X_train_1, X_val, y_train_1, y_val = train_test_split(X_train, y_train, test_size=0.2, random_state=seed)"
   ]
  },
  {
   "cell_type": "markdown",
   "id": "7ec599c4-46b0-485a-93fc-11adcd5359cb",
   "metadata": {},
   "source": [
    "Define a Range of Alpha Values\n",
    "\n",
    "In scikit learn, the lambda of ridge regression is referred to as alpha.\n"
   ]
  },
  {
   "cell_type": "code",
   "execution_count": 26,
   "id": "9e3ee7de-805b-4288-b80f-7da9b5f8944d",
   "metadata": {
    "ExecuteTime": {
     "end_time": "2024-02-22T14:02:34.777101Z",
     "start_time": "2024-02-22T14:02:34.772140Z"
    }
   },
   "outputs": [],
   "source": [
    "alphas = np.logspace(-4, 4, 100)"
   ]
  },
  {
   "cell_type": "markdown",
   "id": "5d40bdc4-6db9-41c3-aac1-3220cf041bba",
   "metadata": {},
   "source": [
    "Initialize Lists to Store Results"
   ]
  },
  {
   "cell_type": "code",
   "execution_count": 27,
   "id": "12aaea3f-8526-405d-8dfa-24d7f8f7fc76",
   "metadata": {
    "ExecuteTime": {
     "end_time": "2024-02-22T14:02:39.457161Z",
     "start_time": "2024-02-22T14:02:39.453300Z"
    }
   },
   "outputs": [],
   "source": [
    "alpha_values = []\n",
    "mse_values = []"
   ]
  },
  {
   "cell_type": "markdown",
   "id": "6fee2e12-d328-47a5-9790-130a426d7cce",
   "metadata": {},
   "source": [
    "Loop Over Alpha Values, Fit the Model, and Record MSE\n",
    "\n",
    "For each alpha value, fit a Ridge Regression model and evaluate its performance on the validation set."
   ]
  },
  {
   "cell_type": "code",
   "execution_count": 28,
   "id": "d388cdfc-636b-4ca8-bb70-fc284c153ce7",
   "metadata": {
    "ExecuteTime": {
     "end_time": "2024-02-22T14:02:44.842804Z",
     "start_time": "2024-02-22T14:02:44.561405Z"
    }
   },
   "outputs": [],
   "source": [
    "for alpha in alphas:\n",
    "    model = Ridge(alpha=alpha)\n",
    "    model.fit(X_train_1, y_train_1)  # Train the model\n",
    "    y_pred = model.predict(X_val)  # Predict on validation set\n",
    "    mse = mean_squared_error(y_val, y_pred)  # Calculate MSE\n",
    "    \n",
    "    alpha_values.append(alpha)  # Store alpha\n",
    "    mse_values.append(mse)  # Store MSE\n"
   ]
  },
  {
   "cell_type": "markdown",
   "id": "9f629a8c-d358-494a-b101-b3ddad9267e0",
   "metadata": {},
   "source": [
    "Identify the Best Alpha and Its Corresponding MSE"
   ]
  },
  {
   "cell_type": "markdown",
   "id": "ce53235c-87b5-4649-946e-88686e79e295",
   "metadata": {},
   "source": [
    "Find the alpha value that results in the lowest MSE."
   ]
  },
  {
   "cell_type": "markdown",
   "id": "eb2cadb1-98c3-439f-9009-14abe5ff717e",
   "metadata": {},
   "source": [
    "The np.argmin function in NumPy is used to find the index of the minimum value in an array. When you use np.argmin(mse_values), it returns the index of the smallest value in the mse_values array."
   ]
  },
  {
   "cell_type": "code",
   "execution_count": 29,
   "id": "27cfe5d2-f6ba-417a-a7c8-c81f7cc879c0",
   "metadata": {
    "ExecuteTime": {
     "end_time": "2024-02-22T14:03:01.816085Z",
     "start_time": "2024-02-22T14:03:01.811829Z"
    }
   },
   "outputs": [
    {
     "name": "stdout",
     "output_type": "stream",
     "text": [
      "Best Alpha: 21.544346900318867\n",
      "Lowest MSE: 0.01815097154926674\n"
     ]
    }
   ],
   "source": [
    "best_alpha = alpha_values[np.argmin(mse_values)]\n",
    "best_mse = min(mse_values)\n",
    "print(f\"Best Alpha: {best_alpha}\")\n",
    "print(f\"Lowest MSE: {best_mse}\")\n"
   ]
  },
  {
   "cell_type": "markdown",
   "id": "dce08fa8-95d9-4556-a88d-05e581086cc6",
   "metadata": {},
   "source": [
    "Plot MSE vs. Alpha\n",
    "Create a plot to visualize how MSE changes with different alpha values."
   ]
  },
  {
   "cell_type": "code",
   "execution_count": 30,
   "id": "d0793ad8-6dd4-4094-a16d-db27b6157e71",
   "metadata": {
    "ExecuteTime": {
     "end_time": "2024-02-22T14:03:07.329414Z",
     "start_time": "2024-02-22T14:03:06.432211Z"
    }
   },
   "outputs": [
    {
     "data": {
      "text/plain": "<Figure size 1000x600 with 1 Axes>",
      "image/png": "[encoded data removed]"
     },
     "metadata": {},
     "output_type": "display_data"
    }
   ],
   "source": [
    "plt.figure(figsize=(10, 6))\n",
    "plt.semilogx(alpha_values, mse_values, marker='o', linestyle='-', color='b')\n",
    "plt.xlabel('Alpha')\n",
    "plt.ylabel('Mean Squared Error (MSE)')\n",
    "plt.title('MSE vs. Alpha for Ridge Regression')\n",
    "plt.grid(True)\n",
    "plt.show()\n"
   ]
  },
  {
   "cell_type": "markdown",
   "id": "27b843d3-b419-4c77-832d-5d819d2e6db7",
   "metadata": {},
   "source": [
    "To calculate the final Mean Squared Error (MSE) on the test set using the best alpha value identified from the validation set, we follow the steps ahead. This will give us an estimate of how well your Ridge Regression model is expected to perform on unseen data."
   ]
  },
  {
   "cell_type": "markdown",
   "id": "cf49a203-a4a8-4207-baf6-d3b890b64466",
   "metadata": {},
   "source": [
    "Combine Training and Validation Sets\n",
    "For the final model, you'll use both the training and validation data to train it, maximizing the amount of data the model can learn from."
   ]
  },
  {
   "cell_type": "markdown",
   "id": "58409950-9359-480b-b295-74370f8d3007",
   "metadata": {},
   "source": [
    "X_train_1 and X_val are two arrays that are stacked vertically to form a new array X_train_val. This means that if X_train_1 has a shape of (m, n) and X_val has a shape of (k, n), the resulting array X_train_val will have a shape of (m+k, n), effectively combining the rows of both arrays into one."
   ]
  },
  {
   "cell_type": "markdown",
   "id": "aaab5d5e-3d8a-4fdd-b25d-90db7605fa6d",
   "metadata": {},
   "source": [
    "y_train_1 and y_val are one-dimensional arrays (labels or targets for a machine learning model), and np.concatenate is used to join them end-to-end into a single one-dimensional array y_train_val. If y_train_1 has a shape of (m,) and y_val has a shape of (k,), then y_train_val will have a shape of (m+k,)."
   ]
  },
  {
   "cell_type": "code",
   "execution_count": 31,
   "id": "e9b776ee-4103-468b-a1cd-450c0d5f44cc",
   "metadata": {
    "ExecuteTime": {
     "end_time": "2024-02-22T14:03:35.260217Z",
     "start_time": "2024-02-22T14:03:35.257885Z"
    }
   },
   "outputs": [],
   "source": [
    "# Combine the training and validation sets\n",
    "X_train_val = np.vstack((X_train_1, X_val))\n",
    "y_train_val = np.concatenate((y_train_1, y_val))\n"
   ]
  },
  {
   "cell_type": "markdown",
   "id": "0475f607-5333-4b63-a8e2-358e5a9bac98",
   "metadata": {},
   "source": [
    "Train the Final Model on the Combined Data\n",
    "Using the best alpha value found, train the Ridge Regression model on the combined training and validation data."
   ]
  },
  {
   "cell_type": "code",
   "execution_count": 32,
   "id": "1b5dc160-cf26-42d5-849d-1bf0ac725bc1",
   "metadata": {
    "ExecuteTime": {
     "end_time": "2024-02-22T14:03:37.878554Z",
     "start_time": "2024-02-22T14:03:37.852058Z"
    }
   },
   "outputs": [
    {
     "data": {
      "text/plain": "Ridge(alpha=21.544346900318867)",
      "text/html": "<style>#sk-container-id-1 {\n  /* Definition of color scheme common for light and dark mode */\n  --sklearn-color-text: black;\n  --sklearn-color-line: gray;\n  /* Definition of color scheme for unfitted estimators */\n  --sklearn-color-unfitted-level-0: #fff5e6;\n  --sklearn-color-unfitted-level-1: #f6e4d2;\n  --sklearn-color-unfitted-level-2: #ffe0b3;\n  --sklearn-color-unfitted-level-3: chocolate;\n  /* Definition of color scheme for fitted estimators */\n  --sklearn-color-fitted-level-0: #f0f8ff;\n  --sklearn-color-fitted-level-1: #d4ebff;\n  --sklearn-color-fitted-level-2: #b3dbfd;\n  --sklearn-color-fitted-level-3: cornflowerblue;\n\n  /* Specific color for light theme */\n  --sklearn-color-text-on-default-background: var(--sg-text-color, var(--theme-code-foreground, var(--jp-content-font-color1, black)));\n  --sklearn-color-background: var(--sg-background-color, var(--theme-background, var(--jp-layout-color0, white)));\n  --sklearn-color-border-box: var(--sg-text-color, var(--theme-code-foreground, var(--jp-content-font-color1, black)));\n  --sklearn-color-icon: #696969;\n\n  @media (prefers-color-scheme: dark) {\n    /* Redefinition of color scheme for dark theme */\n    --sklearn-color-text-on-default-background: var(--sg-text-color, var(--theme-code-foreground, var(--jp-content-font-color1, white)));\n    --sklearn-color-background: var(--sg-background-color, var(--theme-background, var(--jp-layout-color0, #111)));\n    --sklearn-color-border-box: var(--sg-text-color, var(--theme-code-foreground, var(--jp-content-font-color1, white)));\n    --sklearn-color-icon: #878787;\n  }\n}\n\n#sk-container-id-1 {\n  color: var(--sklearn-color-text);\n}\n\n#sk-container-id-1 pre {\n  padding: 0;\n}\n\n#sk-container-id-1 input.sk-hidden--visually {\n  border: 0;\n  clip: rect(1px 1px 1px 1px);\n  clip: rect(1px, 1px, 1px, 1px);\n  height: 1px;\n  margin: -1px;\n  overflow: hidden;\n  padding: 0;\n  position: absolute;\n  width: 1px;\n}\n\n#sk-container-id-1 div.sk-dashed-wrapped {\n  border: 1px dashed var(--sklearn-color-line);\n  margin: 0 0.4em 0.5em 0.4em;\n  box-sizing: border-box;\n  padding-bottom: 0.4em;\n  background-color: var(--sklearn-color-background);\n}\n\n#sk-container-id-1 div.sk-container {\n  /* jupyter's `normalize.less` sets `[hidden] { display: none; }`\n     but bootstrap.min.css set `[hidden] { display: none !important; }`\n     so we also need the `!important` here to be able to override the\n     default hidden behavior on the sphinx rendered scikit-learn.org.\n     See: https://github.com/scikit-learn/scikit-learn/issues/21755 */\n  display: inline-block !important;\n  position: relative;\n}\n\n#sk-container-id-1 div.sk-text-repr-fallback {\n  display: none;\n}\n\ndiv.sk-parallel-item,\ndiv.sk-serial,\ndiv.sk-item {\n  /* draw centered vertical line to link estimators */\n  background-image: linear-gradient(var(--sklearn-color-text-on-default-background), var(--sklearn-color-text-on-default-background));\n  background-size: 2px 100%;\n  background-repeat: no-repeat;\n  background-position: center center;\n}\n\n/* Parallel-specific style estimator block */\n\n#sk-container-id-1 div.sk-parallel-item::after {\n  content: \"\";\n  width: 100%;\n  border-bottom: 2px solid var(--sklearn-color-text-on-default-background);\n  flex-grow: 1;\n}\n\n#sk-container-id-1 div.sk-parallel {\n  display: flex;\n  align-items: stretch;\n  justify-content: center;\n  background-color: var(--sklearn-color-background);\n  position: relative;\n}\n\n#sk-container-id-1 div.sk-parallel-item {\n  display: flex;\n  flex-direction: column;\n}\n\n#sk-container-id-1 div.sk-parallel-item:first-child::after {\n  align-self: flex-end;\n  width: 50%;\n}\n\n#sk-container-id-1 div.sk-parallel-item:last-child::after {\n  align-self: flex-start;\n  width: 50%;\n}\n\n#sk-container-id-1 div.sk-parallel-item:only-child::after {\n  width: 0;\n}\n\n/* Serial-specific style estimator block */\n\n#sk-container-id-1 div.sk-serial {\n  display: flex;\n  flex-direction: column;\n  align-items: center;\n  background-color: var(--sklearn-color-background);\n  padding-right: 1em;\n  padding-left: 1em;\n}\n\n\n/* Toggleable style: style used for estimator/Pipeline/ColumnTransformer box that is\nclickable and can be expanded/collapsed.\n- Pipeline and ColumnTransformer use this feature and define the default style\n- Estimators will overwrite some part of the style using the `sk-estimator` class\n*/\n\n/* Pipeline and ColumnTransformer style (default) */\n\n#sk-container-id-1 div.sk-toggleable {\n  /* Default theme specific background. It is overwritten whether we have a\n  specific estimator or a Pipeline/ColumnTransformer */\n  background-color: var(--sklearn-color-background);\n}\n\n/* Toggleable label */\n#sk-container-id-1 label.sk-toggleable__label {\n  cursor: pointer;\n  display: block;\n  width: 100%;\n  margin-bottom: 0;\n  padding: 0.5em;\n  box-sizing: border-box;\n  text-align: center;\n}\n\n#sk-container-id-1 label.sk-toggleable__label-arrow:before {\n  /* Arrow on the left of the label */\n  content: \"▸\";\n  float: left;\n  margin-right: 0.25em;\n  color: var(--sklearn-color-icon);\n}\n\n#sk-container-id-1 label.sk-toggleable__label-arrow:hover:before {\n  color: var(--sklearn-color-text);\n}\n\n/* Toggleable content - dropdown */\n\n#sk-container-id-1 div.sk-toggleable__content {\n  max-height: 0;\n  max-width: 0;\n  overflow: hidden;\n  text-align: left;\n  /* unfitted */\n  background-color: var(--sklearn-color-unfitted-level-0);\n}\n\n#sk-container-id-1 div.sk-toggleable__content.fitted {\n  /* fitted */\n  background-color: var(--sklearn-color-fitted-level-0);\n}\n\n#sk-container-id-1 div.sk-toggleable__content pre {\n  margin: 0.2em;\n  border-radius: 0.25em;\n  color: var(--sklearn-color-text);\n  /* unfitted */\n  background-color: var(--sklearn-color-unfitted-level-0);\n}\n\n#sk-container-id-1 div.sk-toggleable__content.fitted pre {\n  /* unfitted */\n  background-color: var(--sklearn-color-fitted-level-0);\n}\n\n#sk-container-id-1 input.sk-toggleable__control:checked~div.sk-toggleable__content {\n  /* Expand drop-down */\n  max-height: 200px;\n  max-width: 100%;\n  overflow: auto;\n}\n\n#sk-container-id-1 input.sk-toggleable__control:checked~label.sk-toggleable__label-arrow:before {\n  content: \"▾\";\n}\n\n/* Pipeline/ColumnTransformer-specific style */\n\n#sk-container-id-1 div.sk-label input.sk-toggleable__control:checked~label.sk-toggleable__label {\n  color: var(--sklearn-color-text);\n  background-color: var(--sklearn-color-unfitted-level-2);\n}\n\n#sk-container-id-1 div.sk-label.fitted input.sk-toggleable__control:checked~label.sk-toggleable__label {\n  background-color: var(--sklearn-color-fitted-level-2);\n}\n\n/* Estimator-specific style */\n\n/* Colorize estimator box */\n#sk-container-id-1 div.sk-estimator input.sk-toggleable__control:checked~label.sk-toggleable__label {\n  /* unfitted */\n  background-color: var(--sklearn-color-unfitted-level-2);\n}\n\n#sk-container-id-1 div.sk-estimator.fitted input.sk-toggleable__control:checked~label.sk-toggleable__label {\n  /* fitted */\n  background-color: var(--sklearn-color-fitted-level-2);\n}\n\n#sk-container-id-1 div.sk-label label.sk-toggleable__label,\n#sk-container-id-1 div.sk-label label {\n  /* The background is the default theme color */\n  color: var(--sklearn-color-text-on-default-background);\n}\n\n/* On hover, darken the color of the background */\n#sk-container-id-1 div.sk-label:hover label.sk-toggleable__label {\n  color: var(--sklearn-color-text);\n  background-color: var(--sklearn-color-unfitted-level-2);\n}\n\n/* Label box, darken color on hover, fitted */\n#sk-container-id-1 div.sk-label.fitted:hover label.sk-toggleable__label.fitted {\n  color: var(--sklearn-color-text);\n  background-color: var(--sklearn-color-fitted-level-2);\n}\n\n/* Estimator label */\n\n#sk-container-id-1 div.sk-label label {\n  font-family: monospace;\n  font-weight: bold;\n  display: inline-block;\n  line-height: 1.2em;\n}\n\n#sk-container-id-1 div.sk-label-container {\n  text-align: center;\n}\n\n/* Estimator-specific */\n#sk-container-id-1 div.sk-estimator {\n  font-family: monospace;\n  border: 1px dotted var(--sklearn-color-border-box);\n  border-radius: 0.25em;\n  box-sizing: border-box;\n  margin-bottom: 0.5em;\n  /* unfitted */\n  background-color: var(--sklearn-color-unfitted-level-0);\n}\n\n#sk-container-id-1 div.sk-estimator.fitted {\n  /* fitted */\n  background-color: var(--sklearn-color-fitted-level-0);\n}\n\n/* on hover */\n#sk-container-id-1 div.sk-estimator:hover {\n  /* unfitted */\n  background-color: var(--sklearn-color-unfitted-level-2);\n}\n\n#sk-container-id-1 div.sk-estimator.fitted:hover {\n  /* fitted */\n  background-color: var(--sklearn-color-fitted-level-2);\n}\n\n/* Specification for estimator info (e.g. \"i\" and \"?\") */\n\n/* Common style for \"i\" and \"?\" */\n\n.sk-estimator-doc-link,\na:link.sk-estimator-doc-link,\na:visited.sk-estimator-doc-link {\n  float: right;\n  font-size: smaller;\n  line-height: 1em;\n  font-family: monospace;\n  background-color: var(--sklearn-color-background);\n  border-radius: 1em;\n  height: 1em;\n  width: 1em;\n  text-decoration: none !important;\n  margin-left: 1ex;\n  /* unfitted */\n  border: var(--sklearn-color-unfitted-level-1) 1pt solid;\n  color: var(--sklearn-color-unfitted-level-1);\n}\n\n.sk-estimator-doc-link.fitted,\na:link.sk-estimator-doc-link.fitted,\na:visited.sk-estimator-doc-link.fitted {\n  /* fitted */\n  border: var(--sklearn-color-fitted-level-1) 1pt solid;\n  color: var(--sklearn-color-fitted-level-1);\n}\n\n/* On hover */\ndiv.sk-estimator:hover .sk-estimator-doc-link:hover,\n.sk-estimator-doc-link:hover,\ndiv.sk-label-container:hover .sk-estimator-doc-link:hover,\n.sk-estimator-doc-link:hover {\n  /* unfitted */\n  background-color: var(--sklearn-color-unfitted-level-3);\n  color: var(--sklearn-color-background);\n  text-decoration: none;\n}\n\ndiv.sk-estimator.fitted:hover .sk-estimator-doc-link.fitted:hover,\n.sk-estimator-doc-link.fitted:hover,\ndiv.sk-label-container:hover .sk-estimator-doc-link.fitted:hover,\n.sk-estimator-doc-link.fitted:hover {\n  /* fitted */\n  background-color: var(--sklearn-color-fitted-level-3);\n  color: var(--sklearn-color-background);\n  text-decoration: none;\n}\n\n/* Span, style for the box shown on hovering the info icon */\n.sk-estimator-doc-link span {\n  display: none;\n  z-index: 9999;\n  position: relative;\n  font-weight: normal;\n  right: .2ex;\n  padding: .5ex;\n  margin: .5ex;\n  width: min-content;\n  min-width: 20ex;\n  max-width: 50ex;\n  color: var(--sklearn-color-text);\n  box-shadow: 2pt 2pt 4pt #999;\n  /* unfitted */\n  background: var(--sklearn-color-unfitted-level-0);\n  border: .5pt solid var(--sklearn-color-unfitted-level-3);\n}\n\n.sk-estimator-doc-link.fitted span {\n  /* fitted */\n  background: var(--sklearn-color-fitted-level-0);\n  border: var(--sklearn-color-fitted-level-3);\n}\n\n.sk-estimator-doc-link:hover span {\n  display: block;\n}\n\n/* \"?\"-specific style due to the `<a>` HTML tag */\n\n#sk-container-id-1 a.estimator_doc_link {\n  float: right;\n  font-size: 1rem;\n  line-height: 1em;\n  font-family: monospace;\n  background-color: var(--sklearn-color-background);\n  border-radius: 1rem;\n  height: 1rem;\n  width: 1rem;\n  text-decoration: none;\n  /* unfitted */\n  color: var(--sklearn-color-unfitted-level-1);\n  border: var(--sklearn-color-unfitted-level-1) 1pt solid;\n}\n\n#sk-container-id-1 a.estimator_doc_link.fitted {\n  /* fitted */\n  border: var(--sklearn-color-fitted-level-1) 1pt solid;\n  color: var(--sklearn-color-fitted-level-1);\n}\n\n/* On hover */\n#sk-container-id-1 a.estimator_doc_link:hover {\n  /* unfitted */\n  background-color: var(--sklearn-color-unfitted-level-3);\n  color: var(--sklearn-color-background);\n  text-decoration: none;\n}\n\n#sk-container-id-1 a.estimator_doc_link.fitted:hover {\n  /* fitted */\n  background-color: var(--sklearn-color-fitted-level-3);\n}\n</style><div id=\"sk-container-id-1\" class=\"sk-top-container\"><div class=\"sk-text-repr-fallback\"><pre>Ridge(alpha=21.544346900318867)</pre><b>In a Jupyter environment, please rerun this cell to show the HTML representation or trust the notebook. <br />On GitHub, the HTML representation is unable to render, please try loading this page with nbviewer.org.</b></div><div class=\"sk-container\" hidden><div class=\"sk-item\"><div class=\"sk-estimator fitted sk-toggleable\"><input class=\"sk-toggleable__control sk-hidden--visually\" id=\"sk-estimator-id-1\" type=\"checkbox\" checked><label for=\"sk-estimator-id-1\" class=\"sk-toggleable__label fitted sk-toggleable__label-arrow fitted\">&nbsp;&nbsp;Ridge<a class=\"sk-estimator-doc-link fitted\" rel=\"noreferrer\" target=\"_blank\" href=\"https://scikit-learn.org/1.4/modules/generated/sklearn.linear_model.Ridge.html\">?<span>Documentation for Ridge</span></a><span class=\"sk-estimator-doc-link fitted\">i<span>Fitted</span></span></label><div class=\"sk-toggleable__content fitted\"><pre>Ridge(alpha=21.544346900318867)</pre></div> </div></div></div></div>"
     },
     "execution_count": 32,
     "metadata": {},
     "output_type": "execute_result"
    }
   ],
   "source": [
    "final_model = Ridge(alpha=best_alpha)\n",
    "final_model.fit(X_train_val, y_train_val)\n"
   ]
  },
  {
   "cell_type": "markdown",
   "id": "5ca9a996-ecd4-4231-82e7-79bb79b5d680",
   "metadata": {},
   "source": [
    "Make Predictions on the Test Set and Calculate MSE.\n",
    "\n",
    "Finally, predict on the test set using the final model and calculate the Mean Squared Error."
   ]
  },
  {
   "cell_type": "code",
   "execution_count": 33,
   "id": "e899e863-7ffc-4e53-a61e-41018e17e059",
   "metadata": {
    "ExecuteTime": {
     "end_time": "2024-02-22T14:32:38.287840Z",
     "start_time": "2024-02-22T14:32:38.276184Z"
    }
   },
   "outputs": [
    {
     "name": "stdout",
     "output_type": "stream",
     "text": [
      "Final Test MSE: 0.01893959443414428\n"
     ]
    }
   ],
   "source": [
    "y_test_pred = final_model.predict(X_test)  # Predict on the test set\n",
    "final_test_mse = mean_squared_error(y_test, y_test_pred)  # Calculate MSE on the test set\n",
    "print(f\"Final Test MSE: {final_test_mse}\")\n"
   ]
  },
  {
   "cell_type": "markdown",
   "id": "f6ae12e4-73b5-4fbb-9f14-07254774ed63",
   "metadata": {},
   "source": [
    "### Lasso Regression:"
   ]
  },
  {
   "cell_type": "code",
   "execution_count": 37,
   "id": "7ba5200a-eae6-4949-b4fc-fecbdd8def48",
   "metadata": {
    "ExecuteTime": {
     "end_time": "2024-02-22T14:35:45.074348Z",
     "start_time": "2024-02-22T14:35:45.062079Z"
    }
   },
   "outputs": [],
   "source": [
    "from sklearn.linear_model import Lasso"
   ]
  },
  {
   "cell_type": "markdown",
   "id": "3e9e148b-a3be-4156-91fc-f3e4d064ac46",
   "metadata": {},
   "source": [
    "Define a Range of Alpha Values\n",
    "Choose a range of alpha values to test. "
   ]
  },
  {
   "cell_type": "code",
   "execution_count": 38,
   "id": "97bcc44f-07b0-466d-9cca-7b77470ec66a",
   "metadata": {
    "ExecuteTime": {
     "end_time": "2024-02-22T14:35:47.658372Z",
     "start_time": "2024-02-22T14:35:47.650748Z"
    }
   },
   "outputs": [],
   "source": [
    "#Define alpha as ridge\n",
    "alphas = np.logspace(-4, 4, 100)"
   ]
  },
  {
   "cell_type": "markdown",
   "id": "071f5151-c135-49c0-9ce0-296722382549",
   "metadata": {},
   "source": [
    "Loop Over Alpha Values and Store Results\n",
    "\n",
    "Initialize lists to store alpha values and their corresponding MSEs. Then, loop over the alpha values, fit a Lasso model for each, and evaluate its performance on the validation set."
   ]
  },
  {
   "cell_type": "code",
   "execution_count": 39,
   "id": "0b96e0b7-1c61-4a56-a651-c421ee151390",
   "metadata": {
    "ExecuteTime": {
     "end_time": "2024-02-22T14:35:51.146534Z",
     "start_time": "2024-02-22T14:35:50.402841Z"
    }
   },
   "outputs": [
    {
     "name": "stderr",
     "output_type": "stream",
     "text": [
      "/Users/elena/anaconda3/envs/ml/lib/python3.11/site-packages/sklearn/linear_model/_coordinate_descent.py:678: ConvergenceWarning: Objective did not converge. You might want to increase the number of iterations, check the scale of the features or consider increasing regularisation. Duality gap: 1.298e-02, tolerance: 5.886e-03\n",
      "  model = cd_fast.enet_coordinate_descent(\n",
      "/Users/elena/anaconda3/envs/ml/lib/python3.11/site-packages/sklearn/linear_model/_coordinate_descent.py:678: ConvergenceWarning: Objective did not converge. You might want to increase the number of iterations, check the scale of the features or consider increasing regularisation. Duality gap: 7.245e-03, tolerance: 5.886e-03\n",
      "  model = cd_fast.enet_coordinate_descent(\n"
     ]
    }
   ],
   "source": [
    "alpha_values = []\n",
    "mse_values = []\n",
    "best_alpha = None\n",
    "lowest_mse = np.inf\n",
    "\n",
    "for alpha in alphas:\n",
    "    model = Lasso(alpha=alpha)\n",
    "    model.fit(X_train_1, y_train_1)\n",
    "    y_pred = model.predict(X_val)\n",
    "    mse = mean_squared_error(y_val, y_pred)\n",
    "    \n",
    "    alpha_values.append(alpha)\n",
    "    mse_values.append(mse)\n",
    "    \n",
    "    if mse < lowest_mse:\n",
    "        best_alpha = alpha\n",
    "        lowest_mse = mse"
   ]
  },
  {
   "cell_type": "markdown",
   "id": "6fc71575-7624-4ac8-aa6d-4668faef2212",
   "metadata": {},
   "source": [
    "Plot MSE vs. Alpha\n",
    "\n",
    "Visualize how the Mean Squared Error changes with different alpha values."
   ]
  },
  {
   "cell_type": "code",
   "execution_count": 40,
   "id": "3ab6d5ac-27ff-452b-a6e4-0568bc9a89f8",
   "metadata": {
    "ExecuteTime": {
     "end_time": "2024-02-22T14:39:01.869098Z",
     "start_time": "2024-02-22T14:39:01.858449Z"
    }
   },
   "outputs": [
    {
     "name": "stdout",
     "output_type": "stream",
     "text": [
      "Best Alpha: 0.0003053855508833416\n",
      "Lowest MSE: 0.018069684470982388\n"
     ]
    }
   ],
   "source": [
    "## use the commands to plot for ridge\n",
    "best_alpha = alpha_values[np.argmin(mse_values)]\n",
    "best_mse = min(mse_values)\n",
    "print(f\"Best Alpha: {best_alpha}\")\n",
    "print(f\"Lowest MSE: {best_mse}\")"
   ]
  },
  {
   "cell_type": "markdown",
   "id": "2a616252-f53c-44e3-8b86-ad808acddf56",
   "metadata": {},
   "source": [
    "Print the Best Alpha and Its MSE\n",
    "Output the best alpha value found and its corresponding lowest MSE."
   ]
  },
  {
   "cell_type": "code",
   "execution_count": 41,
   "id": "d8316f72-7848-43eb-b009-d4335f642127",
   "metadata": {
    "ExecuteTime": {
     "end_time": "2024-02-22T14:40:14.271303Z",
     "start_time": "2024-02-22T14:40:14.266314Z"
    }
   },
   "outputs": [
    {
     "name": "stdout",
     "output_type": "stream",
     "text": [
      "Best Alpha: 0.0003053855508833416\n",
      "Lowest MSE: 0.018069684470982388\n"
     ]
    }
   ],
   "source": [
    "best_alpha = alpha_values[np.argmin(mse_values)]\n",
    "best_mse = min(mse_values)\n",
    "print(f\"Best Alpha: {best_alpha}\")\n",
    "print(f\"Lowest MSE: {best_mse}\")"
   ]
  },
  {
   "cell_type": "markdown",
   "id": "2b72f273-5728-444c-9fa5-7c628935483d",
   "metadata": {},
   "source": [
    "Lasso model can lead to sparse solutions by setting some coefficients to zero. This approach is useful for feature selection in addition to regularization."
   ]
  },
  {
   "cell_type": "markdown",
   "id": "1b7f9dd1-20ef-4eeb-9f15-f78e5d55ce4f",
   "metadata": {},
   "source": [
    " Combine the training and validation sets for the final model training"
   ]
  },
  {
   "cell_type": "code",
   "execution_count": null,
   "id": "e22042bb-0f41-4ba6-adfe-7979fd17a46d",
   "metadata": {},
   "outputs": [],
   "source": [
    "\n",
    "X_train_val = np.vstack\n",
    "y_train_val = np.concatenate\n"
   ]
  },
  {
   "cell_type": "markdown",
   "id": "d1d1789f-6c65-4499-8f5e-822e39673481",
   "metadata": {},
   "source": [
    "Initialize the Lasso model with the best alpha value\n"
   ]
  },
  {
   "cell_type": "code",
   "execution_count": null,
   "id": "ce9faf50-8afc-4029-9eac-3b776bd33bfc",
   "metadata": {},
   "outputs": [],
   "source": [
    "final_lasso_model = Lasso"
   ]
  },
  {
   "cell_type": "markdown",
   "id": "722c419f-bcff-4f50-a27c-bc13b51bad94",
   "metadata": {},
   "source": [
    "Fit the model on the combined training and validation data\n"
   ]
  },
  {
   "cell_type": "code",
   "execution_count": null,
   "id": "b118d7d2-fa92-4740-83ab-1f5d5320ef6e",
   "metadata": {},
   "outputs": [],
   "source": [
    "final_lasso_model.fit"
   ]
  },
  {
   "cell_type": "markdown",
   "id": "b146b969-62ed-4c46-aae0-c47d43e79223",
   "metadata": {},
   "source": [
    " Make predictions on the test set\n"
   ]
  },
  {
   "cell_type": "code",
   "execution_count": null,
   "id": "843b6d44-c32a-4555-a620-aba470d69e33",
   "metadata": {},
   "outputs": [],
   "source": [
    "y_test_pred = final_lasso_model.predict"
   ]
  },
  {
   "cell_type": "markdown",
   "id": "11c78746-cce6-42cc-a781-d85befc04717",
   "metadata": {},
   "source": [
    "Calculate the Mean Squared Error on the test set\n"
   ]
  },
  {
   "cell_type": "code",
   "execution_count": null,
   "id": "e61dc46c-6a1c-4f08-9285-49d681b98919",
   "metadata": {},
   "outputs": [],
   "source": [
    "final_test_mse = mean_squared_error"
   ]
  },
  {
   "cell_type": "code",
   "execution_count": null,
   "id": "54d4d6ea-6e19-4ca2-8c8e-51fc35c74925",
   "metadata": {},
   "outputs": [],
   "source": [
    "# Print the final test MSE\n",
    "print(f\"Final Test MSE for Lasso: \n",
    "print(f\"Final Test MSE for Ridge: \n",
    "\n"
   ]
  }
 ],
 "metadata": {
  "kernelspec": {
   "display_name": "Python 3 (ipykernel)",
   "language": "python",
   "name": "python3"
  },
  "language_info": {
   "codemirror_mode": {
    "name": "ipython",
    "version": 3
   },
   "file_extension": ".py",
   "mimetype": "text/x-python",
   "name": "python",
   "nbconvert_exporter": "python",
   "pygments_lexer": "ipython3",
   "version": "3.9.18"
  }
 },
 "nbformat": 4,
 "nbformat_minor": 5
}
